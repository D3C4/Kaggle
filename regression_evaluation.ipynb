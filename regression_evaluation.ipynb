{
 "cells": [
  {
   "cell_type": "markdown",
   "source": [
    "대부분의 캐글 경진 대회는 분류나 회귀 문제를 다룸\n",
    "특히 분류 문제가 많음\n",
    "시각화 대회도 있긴 함\n",
    "예측하려는 타깃값이 범주형 데이터면 분류 문제고, 수치형 데이터면 회귀 문제임"
   ],
   "metadata": {
    "collapsed": false
   }
  },
  {
   "cell_type": "markdown",
   "source": [
    "# 분류\n",
    "\n",
    "분류(Classification)란 어떤 대상을 정해진 범주에 구분해 넣는 작업임\n",
    "\n",
    "머신러닝에서 분류는 주어진 피처에 따라 어떤 대상을 유한한 범주(타깃값)로 구분하는 방법임\n",
    "여기서 '타깃값은 범주형 데이터'라는 점이 중요함\n",
    "범주형 데이터는 객관식 문제와 같이 선택지가 있는 답임\n",
    "개와 고양이를 구분하는 문제, 스팸 메일과 일반 메일을 구분하는 문제, 질병 검사가 양성인지 음성인지 구분하는 문제 등이 속함\n",
    "타깃값이 2개인 분류를 이진분류(Binary Classification), 3개 이상인 분류를 다중분류(Multiclass Classification)라고 함"
   ],
   "metadata": {
    "collapsed": false
   }
  },
  {
   "cell_type": "markdown",
   "source": [
    "# 회귀\n",
    "\n",
    "자연현상이나 사회 현상에서 변수 사이에 관계가 있는 경우가 많음\n",
    "예를 들어, 학습 시간이 시험 성적에 미치는 영향, 수면의 질이 건강에 미친느 영향, 공장의 재고 수준이 회사 이익에 미치는 영향 등\n",
    "이 때 영향을 미치는 변수를 독립변수(Independent Variable)라고 하고, 영향을 받는 변수를 종속변수(Dependent Variable)라고 함\n",
    "방금 예에서는 학습 시간, 수면의 질, 공장의 재고 수준이 독립변수고, 시험 성적, 건강, 회사 이익이 종속변수가 됨\n",
    "\n",
    "회귀(Regression)란 독립변수와 종속변수 간 관계를 모델링하는 방법임\n",
    "회구ㅏ가 분류와 다른 점은 종속변수(타깃값)가 범주형 데이터가 아니라는 점임\n",
    "회귀 문제에서 '종속변수는 수치형 데이터'임\n",
    "\n",
    "회귀 문제에서는 주어진 독립변수(피처)와 종속변수(타깃값) 사이의 관계를 바탕으로 최적의 회귀계수를 찾아야함\n",
    "피처와 타깃값으로 구성된 훈련 데이터로 회귀 모델을 훈련해 최적 회귀계수를 추정해야하는 것임"
   ],
   "metadata": {
    "collapsed": false
   }
  },
  {
   "cell_type": "markdown",
   "source": [
    "# 회귀 평가지표\n",
    "\n",
    "회귀 모델을 훈련하여 최적의 회귀계수를 구할 수 있음\n",
    "쵲거 회귀계수를 구하려면 예측값과 실젯값의 차이, 즉 오차를 최소화해야함\n",
    "\n",
    "오차가 작다는 말은 주어진 데이터에 회귀모델이 잘 들어맞는다는 말임\n",
    "이론적으로 오차가 0이면 주어진 데이터에 회귀 모델이 정확히 일치한다는 뜻임\n",
    "\n",
    "하지만 현실적으로 힘들고, 가능하더라도 훈련 데이터에 지나치게 과적합(Overfitting)된 결과일 가능성이 있음"
   ],
   "metadata": {
    "collapsed": false
   }
  },
  {
   "cell_type": "markdown",
   "source": [
    "| 회귀 평가지표 | 수식                                                                          | 설명                                                                  |\n",
    "|---------|-----------------------------------------------------------------------------|---------------------------------------------------------------------|\n",
    "| MAE     | $\\frac{1}{N}\\sum_{i=1}^N{ \\vert {y_i-\\hat{y} \\vert }$                       | 평균 절대 오차(Mean Absolute Error). 실제 타깃값과 예측 타깃값 차의 절댓값 평균             |\n",
    "| MSE     | $\\frac{1}{N}\\sum_{i=1}^N{ ({y_i-\\hat{y})^2 }$                               | 평균 제곱 오차(Mean Squared Error). 실제 타깃값과 예측 타깃값 차의 제곱의 평균              |\n",
    "| RMSE    | $\\sqrt{\\frac{1}{N}\\sum_{i=1}^N{ ({y_i-\\hat{y})^2 }}$                        | 평균 제곱근 오차(Root Mean Squared Error). MSE에 제곱근을 취한 값                  |\n",
    "| MSLE    | $\\frac{1}{N}\\sum_{i=1}^N{(\\log{(y_i+1)} - \\log{(\\hat{y_i} + 1)})^2}$        | Mean Squared Log Error. MSE에서 타깃값에 로그를 취한 값                         |\n",
    "| RMSLE   | $\\sqrt{\\frac{1}{N}\\sum_{i=1}^N{(\\log{(y_i+1)} - \\log{(\\hat{y_i} + 1)})^2}}$ | Root Mean Squared Log Error. MSLE에 제곱근을 취한 값                        |\n",
    "| R$^2$   | $\\frac{\\hat{\\sigma^2}}{\\sigma^2}$                                           | 결정계수. 예측 타깃값의 분산 / 실제 타깃값의 분산<br/>* 다른 지표와는 다르게 1에 가까울 수록 모델 성능이 좋음 |"
   ],
   "metadata": {
    "collapsed": false
   }
  },
  {
   "cell_type": "markdown",
   "source": [
    "MSLE와 RMSLE에서 log(y)가 아니라 log(y + 1)을 사용한 이유는 로그값의 음의 무한대가 되는 상황을 방지하기 위함임"
   ],
   "metadata": {
    "collapsed": false
   }
  },
  {
   "cell_type": "code",
   "execution_count": 2,
   "outputs": [
    {
     "name": "stdout",
     "output_type": "stream",
     "text": [
      "MAE:\t 0.5384615384615384\n",
      "MSE:\t 0.6923076923076923\n",
      "RMSE:\t 0.8320502943378437\n",
      "MSLE:\t 0.02962739119574596\n",
      "RMSLE:\t 0.1721260909791016\n",
      "R2:\t 0.8617021276595744\n"
     ]
    }
   ],
   "source": [
    "import numpy as np\n",
    "\n",
    "from sklearn.metrics import mean_absolute_error as mae\n",
    "from sklearn.metrics import mean_squared_error as mse\n",
    "from sklearn.metrics import mean_squared_log_error as msle\n",
    "from sklearn.metrics import r2_score as r2\n",
    "\n",
    "truth = np.array([1, 2, 3, 2, 3, 5, 4, 6, 5, 6, 7, 8, 8]) # 실젯값\n",
    "preds = np.array([1, 1, 2, 2, 3, 4, 4, 5, 5, 7, 7, 6, 8]) # 예측값\n",
    "\n",
    "MAE = mae(truth, preds)\n",
    "MSE = mse(truth, preds)\n",
    "RMSE = np.sqrt(MSE)\n",
    "MSLE = msle(truth, preds)\n",
    "RMSLE = np.sqrt(MSLE)\n",
    "R2 = r2(truth, preds)\n",
    "\n",
    "print(f\"MAE:\\t {MAE}\")\n",
    "print(f\"MSE:\\t {MSE}\")\n",
    "print(f\"RMSE:\\t {RMSE}\")\n",
    "print(f\"MSLE:\\t {MSLE}\")\n",
    "print(f\"RMSLE:\\t {RMSLE}\")\n",
    "print(f\"R2:\\t {R2}\")"
   ],
   "metadata": {
    "collapsed": false,
    "ExecuteTime": {
     "end_time": "2023-07-19T14:06:59.202728400Z",
     "start_time": "2023-07-19T14:06:59.184713700Z"
    }
   }
  },
  {
   "cell_type": "markdown",
   "source": [
    "# 상관계수\n",
    "\n",
    "두 변수 사이의 상관관계(Correlation) 정도를 수치로 나타낸 값을 상관계수(Correlation Coefficient)라고 함\n",
    "보통 약자 r로 표기함\n",
    "여러 상관계수가 있으나, 주로 선형 회귀 상관계수는 피어슨 상관계수(Pearson Correlation Coefficient)임\n",
    "피어슨 상관계수는 선형 상관관계의 강도(Strength)와 방향(Direction)을 나타내며, -1 ~ 1의 값을 가짐\n",
    "상관계수가 음수면 음의 상관관계가 있다고 하고, 양수면 양의 상관관계가 있다고 함"
   ],
   "metadata": {
    "collapsed": false
   }
  }
 ],
 "metadata": {
  "kernelspec": {
   "display_name": "Python 3",
   "language": "python",
   "name": "python3"
  },
  "language_info": {
   "codemirror_mode": {
    "name": "ipython",
    "version": 2
   },
   "file_extension": ".py",
   "mimetype": "text/x-python",
   "name": "python",
   "nbconvert_exporter": "python",
   "pygments_lexer": "ipython2",
   "version": "2.7.6"
  }
 },
 "nbformat": 4,
 "nbformat_minor": 0
}
